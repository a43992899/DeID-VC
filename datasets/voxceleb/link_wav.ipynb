{
 "cells": [
  {
   "cell_type": "code",
   "execution_count": 3,
   "metadata": {},
   "outputs": [
    {
     "name": "stderr",
     "output_type": "stream",
     "text": [
      "100%|██████████| 1211/1211 [00:07<00:00, 157.71it/s]\n",
      "100%|██████████| 5994/5994 [00:40<00:00, 146.85it/s]\n"
     ]
    }
   ],
   "source": [
    "import os\n",
    "from tqdm import tqdm\n",
    "\n",
    "vox1_path = \"/home/yrb/code/ID-DEID/data/voxceleb/vox1\"\n",
    "vox2_path = \"/home/yrb/code/ID-DEID/data/voxceleb/vox2/wav\"\n",
    "combined_path = \"/home/yrb/data/ID-DEID_data/voxceleb_wavs\"\n",
    "\n",
    "def link_vox(vox_wav_path):\n",
    "    for speaker_folder in tqdm(os.listdir(vox_wav_path)):\n",
    "        speaker_path = os.path.join(vox_wav_path, speaker_folder)\n",
    "        for utter_folder in os.listdir(speaker_path):\n",
    "            utter_path = os.path.join(speaker_path, utter_folder)\n",
    "            for wav_file in os.listdir(utter_path):\n",
    "                wav_path = os.path.join(utter_path, wav_file)\n",
    "                trg_path = os.path.join(combined_path, speaker_folder, utter_folder+\"_\"+wav_file)\n",
    "                # make the directory if it doesn't exist\n",
    "                os.makedirs(os.path.dirname(trg_path), exist_ok=True)\n",
    "                os.symlink(wav_path, trg_path)\n",
    "\n",
    "link_vox(vox_wav_path=vox1_path)\n",
    "link_vox(vox_wav_path=vox2_path)\n"
   ]
  },
  {
   "cell_type": "code",
   "execution_count": null,
   "metadata": {},
   "outputs": [],
   "source": []
  }
 ],
 "metadata": {
  "interpreter": {
   "hash": "19c6557b8642ad53c96fc5567ab2832fa0c5cbeae14f00371bdd2b5617c4bb1b"
  },
  "kernelspec": {
   "display_name": "Python 3.8.12 64-bit ('ID-DEID_ENV': virtualenv)",
   "language": "python",
   "name": "python3"
  },
  "language_info": {
   "codemirror_mode": {
    "name": "ipython",
    "version": 3
   },
   "file_extension": ".py",
   "mimetype": "text/x-python",
   "name": "python",
   "nbconvert_exporter": "python",
   "pygments_lexer": "ipython3",
   "version": "3.8.12"
  },
  "orig_nbformat": 4
 },
 "nbformat": 4,
 "nbformat_minor": 2
}
