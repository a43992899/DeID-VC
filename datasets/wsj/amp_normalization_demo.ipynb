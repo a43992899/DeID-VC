{
 "cells": [
  {
   "cell_type": "code",
   "execution_count": 29,
   "metadata": {},
   "outputs": [],
   "source": [
    "import pydub\n",
    "from pydub import AudioSegment\n",
    "from pydub import effects\n",
    "import os"
   ]
  },
  {
   "cell_type": "code",
   "execution_count": 2,
   "metadata": {},
   "outputs": [],
   "source": [
    "PROJECT_ROOT = '/home/ubuntu/mnt/yrb/ID-DEID/'\n",
    "DATA_PATH = os.path.join(PROJECT_ROOT, 'data/')\n",
    "AUTOVC_ROOT = os.path.join(PROJECT_ROOT, 'deid/autovc/')"
   ]
  },
  {
   "cell_type": "code",
   "execution_count": 22,
   "metadata": {},
   "outputs": [],
   "source": [
    "vctk_wav_path = '/home/ubuntu/mnt/yrb/ID-DEID/data/vctk_wavs/p225/p225_003.wav'\n",
    "vctk_wav_path2 = '/home/ubuntu/mnt/yrb/ID-DEID/deid/autovc/test_data/wavs/p225/p225_003.wav'\n",
    "wsj_wav_path = '/home/ubuntu/mnt/yrb/ID-DEID/data/wsj_wavs/00a/00aa010a.wv1.wav'"
   ]
  },
  {
   "cell_type": "code",
   "execution_count": 23,
   "metadata": {},
   "outputs": [
    {
     "name": "stdout",
     "output_type": "stream",
     "text": [
      "32695\n",
      "32441\n",
      "3861\n"
     ]
    }
   ],
   "source": [
    "for i in [vctk_wav_path, vctk_wav_path2, wsj_wav_path]:\n",
    "    audio = AudioSegment.from_file(i, \"flac\")\n",
    "    print(audio.max)"
   ]
  },
  {
   "cell_type": "code",
   "execution_count": 28,
   "metadata": {},
   "outputs": [
    {
     "data": {
      "text/plain": [
       "(3861, 32392)"
      ]
     },
     "execution_count": 28,
     "metadata": {},
     "output_type": "execute_result"
    }
   ],
   "source": [
    "audio_norm = effects.normalize(audio)\n",
    "audio.max, audio_norm.max"
   ]
  },
  {
   "cell_type": "code",
   "execution_count": 32,
   "metadata": {},
   "outputs": [
    {
     "name": "stdout",
     "output_type": "stream",
     "text": [
      "p225_003.wav 32441\n",
      "p225_008.wav 32441\n",
      "p225_011.wav 32440\n",
      "p225_016.wav 32440\n",
      "p225_019.wav 32441\n",
      "p225_020.wav 32440\n",
      "p225_021.wav 32440\n",
      "p225_022.wav 32441\n",
      "p225_023.wav 32440\n",
      "p225_024.wav 32441\n",
      "p226_003.wav 32441\n",
      "p226_005.wav 32440\n",
      "p226_008.wav 32441\n",
      "p226_011.wav 32441\n",
      "p226_016.wav 32440\n",
      "p226_019.wav 32441\n",
      "p226_021.wav 32440\n",
      "p226_022.wav 32441\n",
      "p226_023.wav 32440\n",
      "p226_024.wav 32440\n",
      "p227_003.wav 32441\n",
      "p227_005.wav 32440\n",
      "p227_008.wav 32440\n",
      "p227_011.wav 32441\n",
      "p227_016.wav 32440\n",
      "p227_019.wav 32441\n",
      "p227_021.wav 32440\n",
      "p227_022.wav 32441\n",
      "p227_023.wav 32441\n",
      "p227_024.wav 32440\n",
      "p228_003.wav 32440\n",
      "p228_005.wav 32440\n",
      "p228_008.wav 32440\n",
      "p228_011.wav 32440\n",
      "p228_016.wav 32440\n",
      "p228_019.wav 32441\n",
      "p228_021.wav 32440\n",
      "p228_022.wav 32441\n",
      "p228_023.wav 32440\n",
      "p228_024.wav 32440\n"
     ]
    }
   ],
   "source": [
    "walk_path = '/home/ubuntu/mnt/yrb/ID-DEID/deid/autovc/test_data/wavs/'\n",
    "for root, dirs, files in os.walk(walk_path):\n",
    "    for f in files:\n",
    "        if f.endswith('.wav'):\n",
    "            audio_path = os.path.join(root, f)\n",
    "            audio = AudioSegment.from_file(audio_path, \"wav\")\n",
    "            print(f, audio.max)"
   ]
  },
  {
   "cell_type": "code",
   "execution_count": null,
   "metadata": {},
   "outputs": [],
   "source": []
  }
 ],
 "metadata": {
  "interpreter": {
   "hash": "a587ad5ce8e71b39f2433a7b6d517a871c1bfb036e7906650af3a48b6ec284e8"
  },
  "kernelspec": {
   "display_name": "Python 3.8.0 64-bit ('ID-DEID_ENV': virtualenv)",
   "name": "python3"
  },
  "language_info": {
   "codemirror_mode": {
    "name": "ipython",
    "version": 3
   },
   "file_extension": ".py",
   "mimetype": "text/x-python",
   "name": "python",
   "nbconvert_exporter": "python",
   "pygments_lexer": "ipython3",
   "version": "3.8.0"
  },
  "orig_nbformat": 4
 },
 "nbformat": 4,
 "nbformat_minor": 2
}
